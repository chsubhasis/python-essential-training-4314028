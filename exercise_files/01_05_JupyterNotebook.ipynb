{
 "cells": [
  {
   "cell_type": "markdown",
   "id": "62ce1d82",
   "metadata": {},
   "source": [
    "# Title\n",
    "## Smaller Title"
   ]
  },
  {
   "cell_type": "markdown",
   "id": "12d15452",
   "metadata": {},
   "source": [
    "\\begin{equation}\n",
    "e^x=\\sum_{i=0}^\\infty \\frac{1}{i!}x^i\n",
    "\\end{equation}"
   ]
  },
  {
   "cell_type": "code",
   "execution_count": 13,
   "id": "ab0b33ee",
   "metadata": {
    "ExecuteTime": {
     "end_time": "2023-12-25T14:56:56.955761200Z",
     "start_time": "2023-12-25T14:56:56.911597700Z"
    }
   },
   "outputs": [
    {
     "name": "stdout",
     "output_type": "stream",
     "text": [
      "Doing some data science!!\n"
     ]
    }
   ],
   "source": [
    "print('Doing some data science!!')"
   ]
  },
  {
   "cell_type": "code",
   "execution_count": 14,
   "id": "70df0832",
   "metadata": {
    "ExecuteTime": {
     "end_time": "2023-12-25T14:56:56.960290400Z",
     "start_time": "2023-12-25T14:56:56.931071100Z"
    }
   },
   "outputs": [
    {
     "name": "stdout",
     "output_type": "stream",
     "text": [
      "2\n"
     ]
    }
   ],
   "source": [
    "print(1 + 1)"
   ]
  },
  {
   "cell_type": "code",
   "execution_count": 15,
   "id": "23519052",
   "metadata": {
    "ExecuteTime": {
     "end_time": "2023-12-25T14:56:56.971232800Z",
     "start_time": "2023-12-25T14:56:56.955761200Z"
    }
   },
   "outputs": [
    {
     "name": "stdout",
     "output_type": "stream",
     "text": [
      "3\n"
     ]
    }
   ],
   "source": [
    "print(1 + 2)"
   ]
  },
  {
   "cell_type": "markdown",
   "source": [
    "Test this"
   ],
   "metadata": {
    "collapsed": false
   },
   "id": "bb55ffac738d2122"
  },
  {
   "cell_type": "code",
   "execution_count": 16,
   "outputs": [
    {
     "name": "stdout",
     "output_type": "stream",
     "text": [
      "[4, 5, 6]\n",
      "[1, 2, 3]\n"
     ]
    }
   ],
   "source": [
    "a = [1,2,3]\n",
    "b = a\n",
    "a = [4,5,6]\n",
    "print(a)\n",
    "print(b)"
   ],
   "metadata": {
    "collapsed": false,
    "ExecuteTime": {
     "end_time": "2023-12-25T14:59:12.674111900Z",
     "start_time": "2023-12-25T14:59:12.626136200Z"
    }
   },
   "id": "bec098f66faf53e9"
  },
  {
   "cell_type": "code",
   "execution_count": 15,
   "outputs": [],
   "source": [],
   "metadata": {
    "collapsed": false,
    "ExecuteTime": {
     "end_time": "2023-12-25T14:56:57.030786200Z",
     "start_time": "2023-12-25T14:56:56.975699800Z"
    }
   },
   "id": "b3dbf31eb6ad9eef"
  }
 ],
 "metadata": {
  "kernelspec": {
   "display_name": "Python 3.10.4 64-bit",
   "language": "python",
   "name": "python3"
  },
  "language_info": {
   "codemirror_mode": {
    "name": "ipython",
    "version": 3
   },
   "file_extension": ".py",
   "mimetype": "text/x-python",
   "name": "python",
   "nbconvert_exporter": "python",
   "pygments_lexer": "ipython3",
   "version": "3.10.4"
  },
  "vscode": {
   "interpreter": {
    "hash": "949777d72b0d2535278d3dc13498b2535136f6dfe0678499012e853ee9abcab1"
   }
  }
 },
 "nbformat": 4,
 "nbformat_minor": 5
}
