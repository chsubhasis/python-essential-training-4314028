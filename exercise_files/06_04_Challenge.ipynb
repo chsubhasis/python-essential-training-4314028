{
 "cells": [
  {
   "cell_type": "markdown",
   "id": "6aa3058e",
   "metadata": {},
   "source": [
    "## Can You Hear Me Now?\n",
    "\n",
    "Create a function \"getWithRetry\" that calls a function until it receives response that is not None, and then returns that response. If it continues to get no response, it should give up after a certain number of tries (to be decided by you) \n",
    "\n",
    "After filling out the \"getWithRetry\" function, run all of the cells in this notebook in order to test the following scenarios:\n",
    "- All services are up\n",
    "- All services are down\n",
    "- All services are down and making a request takes 0.1 seconds to execute\n",
    "\n",
    "What is the ideal number of retries before giving up? How do you know whether the service is down or you're just unlucky?"
   ]
  },
  {
   "cell_type": "code",
   "execution_count": 15,
   "id": "52439a5a",
   "metadata": {
    "ExecuteTime": {
     "end_time": "2023-12-28T05:58:14.755334100Z",
     "start_time": "2023-12-28T05:58:14.581377500Z"
    }
   },
   "outputs": [],
   "source": [
    "import random\n",
    "import time"
   ]
  },
  {
   "cell_type": "code",
   "execution_count": 16,
   "id": "01d1f0d6",
   "metadata": {
    "ExecuteTime": {
     "end_time": "2023-12-28T05:58:14.786032600Z",
     "start_time": "2023-12-28T05:58:14.587597Z"
    }
   },
   "outputs": [],
   "source": [
    "servicesAreUp = True\n",
    "\n",
    "def getData50():\n",
    "    if servicesAreUp and random.random() < 0.5:\n",
    "        return 'You got the data! That only happens 50% of the time!'\n",
    "\n",
    "def getData25():\n",
    "    if servicesAreUp and random.random() < 0.25:\n",
    "        return 'You got the data! That only happens 25% of the time!'    \n",
    "\n",
    "def getData10():\n",
    "    if servicesAreUp and random.random() < 0.1:\n",
    "        return 'You got the data! That only happens 10% of the time!'"
   ]
  },
  {
   "cell_type": "code",
   "execution_count": 17,
   "id": "0994b5f1",
   "metadata": {
    "ExecuteTime": {
     "end_time": "2023-12-28T05:58:14.786032600Z",
     "start_time": "2023-12-28T05:58:14.603430200Z"
    }
   },
   "outputs": [],
   "source": [
    "# Your code here!\n",
    "def getWithRetry(dataFunc):\n",
    "    print(dataFunc())"
   ]
  },
  {
   "cell_type": "code",
   "execution_count": 18,
   "id": "84eb11cb",
   "metadata": {
    "ExecuteTime": {
     "end_time": "2023-12-28T05:58:14.787053100Z",
     "start_time": "2023-12-28T05:58:14.611158200Z"
    }
   },
   "outputs": [
    {
     "name": "stdout",
     "output_type": "stream",
     "text": [
      "You got the data! That only happens 50% of the time!\n"
     ]
    }
   ],
   "source": [
    "# Should return 'You got the data! That only happens 50% of the time!'\n",
    "getWithRetry(getData50)"
   ]
  },
  {
   "cell_type": "code",
   "execution_count": 19,
   "id": "fd803ca8",
   "metadata": {
    "ExecuteTime": {
     "end_time": "2023-12-28T05:58:14.787053100Z",
     "start_time": "2023-12-28T05:58:14.634418600Z"
    }
   },
   "outputs": [
    {
     "name": "stdout",
     "output_type": "stream",
     "text": [
      "You got the data! That only happens 25% of the time!\n"
     ]
    }
   ],
   "source": [
    "# Should return 'You got the data! That only happens 25% of the time!'\n",
    "getWithRetry(getData25)"
   ]
  },
  {
   "cell_type": "code",
   "execution_count": 20,
   "id": "5732135e",
   "metadata": {
    "ExecuteTime": {
     "end_time": "2023-12-28T05:58:14.787053100Z",
     "start_time": "2023-12-28T05:58:14.649996800Z"
    }
   },
   "outputs": [
    {
     "name": "stdout",
     "output_type": "stream",
     "text": [
      "None\n"
     ]
    }
   ],
   "source": [
    "# Should return 'You got the data! That only happens 10% of the time!'\n",
    "getWithRetry(getData10)"
   ]
  },
  {
   "cell_type": "code",
   "execution_count": 21,
   "id": "c8ee2bd0",
   "metadata": {
    "ExecuteTime": {
     "end_time": "2023-12-28T05:58:14.789049300Z",
     "start_time": "2023-12-28T05:58:14.741622500Z"
    }
   },
   "outputs": [],
   "source": [
    "servicesAreUp = False"
   ]
  },
  {
   "cell_type": "code",
   "execution_count": 22,
   "id": "961a60ea",
   "metadata": {
    "ExecuteTime": {
     "end_time": "2023-12-28T05:58:14.790153300Z",
     "start_time": "2023-12-28T05:58:14.758471500Z"
    }
   },
   "outputs": [
    {
     "name": "stdout",
     "output_type": "stream",
     "text": [
      "None\n"
     ]
    }
   ],
   "source": [
    "# Returns None\n",
    "getWithRetry(getData50)"
   ]
  },
  {
   "cell_type": "code",
   "execution_count": 23,
   "id": "b009f04c",
   "metadata": {
    "ExecuteTime": {
     "end_time": "2023-12-28T05:58:14.800284200Z",
     "start_time": "2023-12-28T05:58:14.774861900Z"
    }
   },
   "outputs": [
    {
     "name": "stdout",
     "output_type": "stream",
     "text": [
      "None\n"
     ]
    }
   ],
   "source": [
    "# Returns None\n",
    "getWithRetry(getData25)"
   ]
  },
  {
   "cell_type": "code",
   "execution_count": 24,
   "id": "a4b67294",
   "metadata": {
    "ExecuteTime": {
     "end_time": "2023-12-28T05:58:14.816447700Z",
     "start_time": "2023-12-28T05:58:14.791173400Z"
    }
   },
   "outputs": [
    {
     "name": "stdout",
     "output_type": "stream",
     "text": [
      "None\n"
     ]
    }
   ],
   "source": [
    "# Returns None\n",
    "getWithRetry(getData10)"
   ]
  },
  {
   "cell_type": "code",
   "execution_count": 25,
   "id": "2ac6e378",
   "metadata": {
    "ExecuteTime": {
     "end_time": "2023-12-28T05:58:14.911798800Z",
     "start_time": "2023-12-28T05:58:14.804288100Z"
    }
   },
   "outputs": [],
   "source": [
    "def getData50():\n",
    "    time.sleep(.1)\n",
    "    if servicesAreUp and random.random() < 0.5:\n",
    "        return 'You got the data! That only happens 50% of the time!'\n",
    "\n",
    "def getData25():\n",
    "    time.sleep(.1)\n",
    "    if servicesAreUp and random.random() < 0.25:\n",
    "        return 'You got the data! That only happens 25% of the time!'    \n",
    "\n",
    "def getData10():\n",
    "    time.sleep(.1)\n",
    "    if servicesAreUp and random.random() < 0.1:\n",
    "        return 'You got the data! That only happens 10% of the time!'"
   ]
  },
  {
   "cell_type": "code",
   "execution_count": 26,
   "id": "3f96192e",
   "metadata": {
    "ExecuteTime": {
     "end_time": "2023-12-28T05:58:14.972673800Z",
     "start_time": "2023-12-28T05:58:14.821286100Z"
    }
   },
   "outputs": [
    {
     "name": "stdout",
     "output_type": "stream",
     "text": [
      "None\n"
     ]
    }
   ],
   "source": [
    "# Returns None\n",
    "getWithRetry(getData50)"
   ]
  },
  {
   "cell_type": "code",
   "execution_count": 27,
   "id": "993f2d05",
   "metadata": {
    "ExecuteTime": {
     "end_time": "2023-12-28T05:58:15.073517500Z",
     "start_time": "2023-12-28T05:58:14.946322800Z"
    }
   },
   "outputs": [
    {
     "name": "stdout",
     "output_type": "stream",
     "text": [
      "None\n"
     ]
    }
   ],
   "source": [
    "getWithRetry(getData25)"
   ]
  },
  {
   "cell_type": "code",
   "execution_count": 28,
   "id": "b5a44926",
   "metadata": {
    "ExecuteTime": {
     "end_time": "2023-12-28T05:58:15.199572Z",
     "start_time": "2023-12-28T05:58:15.070511900Z"
    }
   },
   "outputs": [
    {
     "name": "stdout",
     "output_type": "stream",
     "text": [
      "None\n"
     ]
    }
   ],
   "source": [
    "getWithRetry(getData10)"
   ]
  },
  {
   "cell_type": "code",
   "execution_count": 33,
   "id": "5137b2b5",
   "metadata": {
    "ExecuteTime": {
     "end_time": "2023-12-28T06:11:06.137132800Z",
     "start_time": "2023-12-28T06:11:06.088416600Z"
    }
   },
   "outputs": [
    {
     "ename": "SyntaxError",
     "evalue": "positional argument follows keyword argument (4202005944.py, line 4)",
     "output_type": "error",
     "traceback": [
      "\u001B[1;36m  Cell \u001B[1;32mIn[33], line 4\u001B[1;36m\u001B[0m\n\u001B[1;33m    someFunc(var1=1, 2, var3=3, var4=4)\u001B[0m\n\u001B[1;37m                                      ^\u001B[0m\n\u001B[1;31mSyntaxError\u001B[0m\u001B[1;31m:\u001B[0m positional argument follows keyword argument\n"
     ]
    }
   ],
   "source": [
    "def someFunc(var1, var2, var3, var4):\n",
    "    print(f'var1 {var1}, var2 {var2}, var3 {var3} and var4 {var4}')\n",
    "\n",
    "someFunc(var1=1, 2, var3=3, var4=4)"
   ]
  },
  {
   "cell_type": "code",
   "execution_count": null,
   "outputs": [],
   "source": [],
   "metadata": {
    "collapsed": false
   },
   "id": "8b528562259b9785"
  }
 ],
 "metadata": {
  "kernelspec": {
   "display_name": "Python 3.10.4 64-bit",
   "language": "python",
   "name": "python3"
  },
  "language_info": {
   "codemirror_mode": {
    "name": "ipython",
    "version": 3
   },
   "file_extension": ".py",
   "mimetype": "text/x-python",
   "name": "python",
   "nbconvert_exporter": "python",
   "pygments_lexer": "ipython3",
   "version": "3.10.4"
  },
  "vscode": {
   "interpreter": {
    "hash": "949777d72b0d2535278d3dc13498b2535136f6dfe0678499012e853ee9abcab1"
   }
  }
 },
 "nbformat": 4,
 "nbformat_minor": 5
}
