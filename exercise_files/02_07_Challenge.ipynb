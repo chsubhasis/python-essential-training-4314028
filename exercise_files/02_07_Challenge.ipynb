{
 "cells": [
  {
   "cell_type": "markdown",
   "id": "48f2163c",
   "metadata": {},
   "source": [
    "## Factorial Challenge\n",
    "\n",
    "The factorial function gives the number of possible arrangements of a set of items of length \"n\"\n",
    "\n",
    "For example, there are 4! (\"four factorial\") or 24 ways to arrange four items, which can be calculated as: \n",
    "4 \\* 3 \\* 2 \\* 1\n",
    "\n",
    "5! = 5 \\* 4 \\* 3 \\* 2 \\* 1 = 120\n",
    "\n",
    "6! = 6 \\* 5 \\* 4 \\* 3 \\* 2 \\* 1 = 720\n",
    "\n",
    "etc.\n",
    "\n",
    "In a set of 0 items (an empty set) there is only one way to arrange the items, therefore, 0! = 1\n",
    "\n",
    "For the purposes of this exercise, factorials are only defined for **positive integers** (including 0)\n",
    "\n",
    "\n"
   ]
  },
  {
   "cell_type": "code",
   "execution_count": 13,
   "id": "92af0386",
   "metadata": {
    "ExecuteTime": {
     "end_time": "2023-12-26T12:05:03.253807Z",
     "start_time": "2023-12-26T12:05:03.193638400Z"
    }
   },
   "outputs": [],
   "source": [
    "# Returns the value of the factorial of num if it is defined, otherwise, returns None\n",
    "def factorial(num):\n",
    "    if type(num) == int:\n",
    "        a = 1\n",
    "        while num > 0 :\n",
    "            a = a * num\n",
    "            num = num - 1\n",
    "        print(a)\n",
    "    else:\n",
    "        print('none')"
   ]
  },
  {
   "cell_type": "code",
   "execution_count": 14,
   "id": "1d10be7a",
   "metadata": {
    "ExecuteTime": {
     "end_time": "2023-12-26T12:05:03.259564800Z",
     "start_time": "2023-12-26T12:05:03.214117600Z"
    }
   },
   "outputs": [
    {
     "name": "stdout",
     "output_type": "stream",
     "text": [
      "120\n"
     ]
    }
   ],
   "source": [
    "# return 120\n",
    "factorial(5)"
   ]
  },
  {
   "cell_type": "code",
   "execution_count": 15,
   "id": "580eeb3e",
   "metadata": {
    "ExecuteTime": {
     "end_time": "2023-12-26T12:05:03.259564800Z",
     "start_time": "2023-12-26T12:05:03.233709900Z"
    }
   },
   "outputs": [
    {
     "name": "stdout",
     "output_type": "stream",
     "text": [
      "720\n"
     ]
    }
   ],
   "source": [
    "# return 720\n",
    "factorial (6)"
   ]
  },
  {
   "cell_type": "code",
   "execution_count": 16,
   "id": "c43845c1",
   "metadata": {
    "ExecuteTime": {
     "end_time": "2023-12-26T12:05:03.263616900Z",
     "start_time": "2023-12-26T12:05:03.259111100Z"
    }
   },
   "outputs": [
    {
     "name": "stdout",
     "output_type": "stream",
     "text": [
      "1\n"
     ]
    }
   ],
   "source": [
    "# return 1\n",
    "factorial(0)"
   ]
  },
  {
   "cell_type": "code",
   "execution_count": 17,
   "id": "8f605415",
   "metadata": {
    "ExecuteTime": {
     "end_time": "2023-12-26T12:05:03.343996100Z",
     "start_time": "2023-12-26T12:05:03.259564800Z"
    }
   },
   "outputs": [
    {
     "name": "stdout",
     "output_type": "stream",
     "text": [
      "1\n"
     ]
    }
   ],
   "source": [
    "# return None\n",
    "factorial(-2)"
   ]
  },
  {
   "cell_type": "code",
   "execution_count": 18,
   "id": "5b973ff0",
   "metadata": {
    "ExecuteTime": {
     "end_time": "2023-12-26T12:05:03.393597400Z",
     "start_time": "2023-12-26T12:05:03.283760600Z"
    }
   },
   "outputs": [
    {
     "name": "stdout",
     "output_type": "stream",
     "text": [
      "none\n"
     ]
    }
   ],
   "source": [
    "# return None\n",
    "factorial(1.2)"
   ]
  },
  {
   "cell_type": "code",
   "execution_count": 19,
   "id": "67f07cca",
   "metadata": {
    "ExecuteTime": {
     "end_time": "2023-12-26T12:05:03.393597400Z",
     "start_time": "2023-12-26T12:05:03.306527500Z"
    }
   },
   "outputs": [
    {
     "name": "stdout",
     "output_type": "stream",
     "text": [
      "none\n"
     ]
    }
   ],
   "source": [
    "# return None\n",
    "factorial('spam spam spam spam spam spam')"
   ]
  },
  {
   "cell_type": "code",
   "execution_count": 19,
   "id": "714148cd",
   "metadata": {
    "ExecuteTime": {
     "end_time": "2023-12-26T12:05:03.393597400Z",
     "start_time": "2023-12-26T12:05:03.323595700Z"
    }
   },
   "outputs": [],
   "source": []
  }
 ],
 "metadata": {
  "kernelspec": {
   "display_name": "Python 3 (ipykernel)",
   "language": "python",
   "name": "python3"
  },
  "language_info": {
   "codemirror_mode": {
    "name": "ipython",
    "version": 3
   },
   "file_extension": ".py",
   "mimetype": "text/x-python",
   "name": "python",
   "nbconvert_exporter": "python",
   "pygments_lexer": "ipython3",
   "version": "3.10.4"
  }
 },
 "nbformat": 4,
 "nbformat_minor": 5
}
