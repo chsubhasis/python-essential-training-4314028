{
 "cells": [
  {
   "cell_type": "markdown",
   "id": "2d0359bf",
   "metadata": {},
   "source": [
    "# Data Structures"
   ]
  },
  {
   "cell_type": "markdown",
   "id": "cc61a7fd",
   "metadata": {},
   "source": [
    "## Lists"
   ]
  },
  {
   "cell_type": "code",
   "execution_count": 2,
   "id": "124dfa4d",
   "metadata": {
    "ExecuteTime": {
     "end_time": "2023-12-26T09:51:01.927021500Z",
     "start_time": "2023-12-26T09:51:01.891483100Z"
    }
   },
   "outputs": [
    {
     "name": "stdout",
     "output_type": "stream",
     "text": [
      "[1, 2, 3, 4]\n"
     ]
    }
   ],
   "source": [
    "my_list = [1,2,3,4]\n",
    "print(my_list)"
   ]
  },
  {
   "cell_type": "code",
   "execution_count": 3,
   "id": "343cab68",
   "metadata": {
    "ExecuteTime": {
     "end_time": "2023-12-26T09:51:01.927021500Z",
     "start_time": "2023-12-26T09:51:01.906511Z"
    }
   },
   "outputs": [],
   "source": [
    "my_list = ['list', 'of', 'strings']"
   ]
  },
  {
   "cell_type": "code",
   "execution_count": 4,
   "id": "31dd5ace",
   "metadata": {
    "ExecuteTime": {
     "end_time": "2023-12-26T09:51:01.937209400Z",
     "start_time": "2023-12-26T09:51:01.923021200Z"
    }
   },
   "outputs": [],
   "source": [
    "my_list = [1,'list', False, []]"
   ]
  },
  {
   "cell_type": "code",
   "execution_count": 5,
   "id": "341e6193",
   "metadata": {
    "ExecuteTime": {
     "end_time": "2023-12-26T09:51:01.981053600Z",
     "start_time": "2023-12-26T09:51:01.939221400Z"
    }
   },
   "outputs": [],
   "source": [
    "my_list = [[1,2,3],[False, True], []]"
   ]
  },
  {
   "cell_type": "code",
   "execution_count": 6,
   "id": "71054a67",
   "metadata": {
    "ExecuteTime": {
     "end_time": "2023-12-26T09:51:01.994413500Z",
     "start_time": "2023-12-26T09:51:01.953046200Z"
    }
   },
   "outputs": [
    {
     "data": {
      "text/plain": "3"
     },
     "execution_count": 6,
     "metadata": {},
     "output_type": "execute_result"
    }
   ],
   "source": [
    "len(my_list)"
   ]
  },
  {
   "cell_type": "markdown",
   "id": "fe9bdfd8",
   "metadata": {},
   "source": [
    "## Sets"
   ]
  },
  {
   "cell_type": "code",
   "execution_count": 7,
   "id": "2cd42f05",
   "metadata": {
    "ExecuteTime": {
     "end_time": "2023-12-26T09:51:01.995411800Z",
     "start_time": "2023-12-26T09:51:01.969866800Z"
    }
   },
   "outputs": [
    {
     "name": "stdout",
     "output_type": "stream",
     "text": [
      "{1, 2, 3, 4, 5}\n"
     ]
    }
   ],
   "source": [
    "my_set = {1,2,3,4,5}\n",
    "print(my_set)"
   ]
  },
  {
   "cell_type": "code",
   "execution_count": 8,
   "id": "ce2034e0",
   "metadata": {
    "ExecuteTime": {
     "end_time": "2023-12-26T09:51:02.009087700Z",
     "start_time": "2023-12-26T09:51:01.984412500Z"
    }
   },
   "outputs": [
    {
     "data": {
      "text/plain": "set"
     },
     "execution_count": 8,
     "metadata": {},
     "output_type": "execute_result"
    }
   ],
   "source": [
    "type(my_set)"
   ]
  },
  {
   "cell_type": "code",
   "execution_count": 9,
   "id": "c40a0c41",
   "metadata": {
    "ExecuteTime": {
     "end_time": "2023-12-26T09:51:02.075012700Z",
     "start_time": "2023-12-26T09:51:02.000940700Z"
    }
   },
   "outputs": [
    {
     "data": {
      "text/plain": "5"
     },
     "execution_count": 9,
     "metadata": {},
     "output_type": "execute_result"
    }
   ],
   "source": [
    "len(my_set)"
   ]
  },
  {
   "cell_type": "code",
   "execution_count": 10,
   "id": "4dacc8e7",
   "metadata": {
    "ExecuteTime": {
     "end_time": "2023-12-26T09:51:02.092777200Z",
     "start_time": "2023-12-26T09:51:02.015863200Z"
    }
   },
   "outputs": [
    {
     "name": "stdout",
     "output_type": "stream",
     "text": [
      "{1, 2}\n"
     ]
    }
   ],
   "source": [
    "my_set = {1,1,2,2}\n",
    "len(my_set)\n",
    "print(my_set)"
   ]
  },
  {
   "cell_type": "code",
   "execution_count": 11,
   "id": "04796b0e",
   "metadata": {
    "ExecuteTime": {
     "end_time": "2023-12-26T09:51:02.094777400Z",
     "start_time": "2023-12-26T09:51:02.030804700Z"
    }
   },
   "outputs": [
    {
     "data": {
      "text/plain": "False"
     },
     "execution_count": 11,
     "metadata": {},
     "output_type": "execute_result"
    }
   ],
   "source": [
    "[1,2] == [2,1]"
   ]
  },
  {
   "cell_type": "code",
   "execution_count": 12,
   "id": "542b7600",
   "metadata": {
    "ExecuteTime": {
     "end_time": "2023-12-26T09:51:02.095776700Z",
     "start_time": "2023-12-26T09:51:02.048225400Z"
    }
   },
   "outputs": [
    {
     "data": {
      "text/plain": "True"
     },
     "execution_count": 12,
     "metadata": {},
     "output_type": "execute_result"
    }
   ],
   "source": [
    "{1,2,3} == {3,2,1,1,1}"
   ]
  },
  {
   "cell_type": "markdown",
   "id": "2d54cd5f",
   "metadata": {},
   "source": [
    "## Tuples"
   ]
  },
  {
   "cell_type": "code",
   "execution_count": 13,
   "id": "f8d946cf",
   "metadata": {
    "ExecuteTime": {
     "end_time": "2023-12-26T09:51:02.106806900Z",
     "start_time": "2023-12-26T09:51:02.062755900Z"
    }
   },
   "outputs": [],
   "source": [
    "my_tuple = (1,2,3)"
   ]
  },
  {
   "cell_type": "code",
   "execution_count": 14,
   "id": "2b1218e0",
   "metadata": {
    "ExecuteTime": {
     "end_time": "2023-12-26T09:51:02.110072300Z",
     "start_time": "2023-12-26T09:51:02.081015100Z"
    }
   },
   "outputs": [
    {
     "data": {
      "text/plain": "3"
     },
     "execution_count": 14,
     "metadata": {},
     "output_type": "execute_result"
    }
   ],
   "source": [
    "len(my_tuple)"
   ]
  },
  {
   "cell_type": "code",
   "execution_count": 15,
   "id": "0b11e898",
   "metadata": {
    "ExecuteTime": {
     "end_time": "2023-12-26T09:51:02.213900600Z",
     "start_time": "2023-12-26T09:51:02.093778200Z"
    }
   },
   "outputs": [
    {
     "data": {
      "text/plain": "False"
     },
     "execution_count": 15,
     "metadata": {},
     "output_type": "execute_result"
    }
   ],
   "source": [
    "(1,2) == (2,1)"
   ]
  },
  {
   "cell_type": "code",
   "execution_count": 16,
   "id": "f4f0164e",
   "metadata": {
    "ExecuteTime": {
     "end_time": "2023-12-26T09:51:02.225452Z",
     "start_time": "2023-12-26T09:51:02.109573200Z"
    }
   },
   "outputs": [
    {
     "name": "stdout",
     "output_type": "stream",
     "text": [
      "[[1, 2, 3], [False, True], [], 6]\n"
     ]
    }
   ],
   "source": [
    "my_list.append(6)\n",
    "print(my_list)"
   ]
  },
  {
   "cell_type": "code",
   "execution_count": 17,
   "id": "3fc754a7",
   "metadata": {
    "ExecuteTime": {
     "end_time": "2023-12-26T09:51:06.676636400Z",
     "start_time": "2023-12-26T09:51:02.125802500Z"
    }
   },
   "outputs": [
    {
     "ename": "AttributeError",
     "evalue": "'tuple' object has no attribute 'append'",
     "output_type": "error",
     "traceback": [
      "\u001B[1;31m---------------------------------------------------------------------------\u001B[0m",
      "\u001B[1;31mAttributeError\u001B[0m                            Traceback (most recent call last)",
      "Cell \u001B[1;32mIn[17], line 1\u001B[0m\n\u001B[1;32m----> 1\u001B[0m \u001B[43mmy_tuple\u001B[49m\u001B[38;5;241;43m.\u001B[39;49m\u001B[43mappend\u001B[49m(\u001B[38;5;241m4\u001B[39m)\n",
      "\u001B[1;31mAttributeError\u001B[0m: 'tuple' object has no attribute 'append'"
     ]
    }
   ],
   "source": [
    "my_tuple.append(4)"
   ]
  },
  {
   "cell_type": "markdown",
   "id": "491e40c6",
   "metadata": {},
   "source": [
    "## Dictionaries"
   ]
  },
  {
   "cell_type": "code",
   "execution_count": 18,
   "id": "07eacb6d",
   "metadata": {
    "ExecuteTime": {
     "end_time": "2023-12-26T10:07:14.570556700Z",
     "start_time": "2023-12-26T10:07:14.540845500Z"
    }
   },
   "outputs": [],
   "source": [
    "my_dictionary = {\n",
    "    'apple': 'A red fruit', \n",
    "    'bear': 'A scary animal'\n",
    "}"
   ]
  },
  {
   "cell_type": "code",
   "execution_count": 19,
   "id": "e62a0f43",
   "metadata": {
    "ExecuteTime": {
     "end_time": "2023-12-26T10:07:15.509264900Z",
     "start_time": "2023-12-26T10:07:15.466532400Z"
    }
   },
   "outputs": [
    {
     "data": {
      "text/plain": "'A red fruit'"
     },
     "execution_count": 19,
     "metadata": {},
     "output_type": "execute_result"
    }
   ],
   "source": [
    "my_dictionary['apple']"
   ]
  },
  {
   "cell_type": "code",
   "execution_count": 20,
   "id": "40a2a490",
   "metadata": {
    "ExecuteTime": {
     "end_time": "2023-12-26T10:07:17.210611800Z",
     "start_time": "2023-12-26T10:07:17.200077600Z"
    }
   },
   "outputs": [],
   "source": [
    "my_dictionary = {\n",
    "    'apple': 'A red fruit', \n",
    "    'bear': 'A scary animal',\n",
    "    'apple': 'Sometimes a green fruit'\n",
    "}"
   ]
  },
  {
   "cell_type": "code",
   "execution_count": 21,
   "id": "97ccc4aa",
   "metadata": {
    "ExecuteTime": {
     "end_time": "2023-12-26T10:07:18.753465100Z",
     "start_time": "2023-12-26T10:07:18.733060400Z"
    }
   },
   "outputs": [
    {
     "data": {
      "text/plain": "'Sometimes a green fruit'"
     },
     "execution_count": 21,
     "metadata": {},
     "output_type": "execute_result"
    }
   ],
   "source": [
    "my_dictionary['apple']"
   ]
  },
  {
   "cell_type": "code",
   "execution_count": 21,
   "id": "cb8ac863",
   "metadata": {
    "ExecuteTime": {
     "end_time": "2023-12-26T10:07:20.113585600Z",
     "start_time": "2023-12-26T10:07:20.087270600Z"
    }
   },
   "outputs": [],
   "source": []
  },
  {
   "cell_type": "code",
   "execution_count": null,
   "outputs": [],
   "source": [],
   "metadata": {
    "collapsed": false
   },
   "id": "6dd69e506a427a95"
  }
 ],
 "metadata": {
  "kernelspec": {
   "display_name": "Python 3 (ipykernel)",
   "language": "python",
   "name": "python3"
  },
  "language_info": {
   "codemirror_mode": {
    "name": "ipython",
    "version": 3
   },
   "file_extension": ".py",
   "mimetype": "text/x-python",
   "name": "python",
   "nbconvert_exporter": "python",
   "pygments_lexer": "ipython3",
   "version": "3.10.2"
  }
 },
 "nbformat": 4,
 "nbformat_minor": 5
}
