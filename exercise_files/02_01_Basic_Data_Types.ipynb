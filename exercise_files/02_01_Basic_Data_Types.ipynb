{
 "cells": [
  {
   "cell_type": "markdown",
   "id": "72e8177d",
   "metadata": {},
   "source": [
    "# Basic Data Types"
   ]
  },
  {
   "cell_type": "markdown",
   "id": "62f373f2",
   "metadata": {},
   "source": [
    "## Defining a Variable"
   ]
  },
  {
   "cell_type": "code",
   "execution_count": 1,
   "id": "c625d1e8",
   "metadata": {
    "ExecuteTime": {
     "end_time": "2023-12-25T15:03:50.787610600Z",
     "start_time": "2023-12-25T15:03:50.755576300Z"
    }
   },
   "outputs": [],
   "source": [
    "x = 5"
   ]
  },
  {
   "cell_type": "code",
   "execution_count": 2,
   "id": "e33dd9d1",
   "metadata": {
    "ExecuteTime": {
     "end_time": "2023-12-25T15:03:50.803478200Z",
     "start_time": "2023-12-25T15:03:50.787610600Z"
    }
   },
   "outputs": [
    {
     "name": "stdout",
     "output_type": "stream",
     "text": [
      "5\n"
     ]
    }
   ],
   "source": [
    "print(x)"
   ]
  },
  {
   "cell_type": "code",
   "execution_count": 3,
   "id": "396bd3c1",
   "metadata": {
    "ExecuteTime": {
     "end_time": "2023-12-25T15:03:50.878990800Z",
     "start_time": "2023-12-25T15:03:50.803478200Z"
    }
   },
   "outputs": [
    {
     "data": {
      "text/plain": "5"
     },
     "execution_count": 3,
     "metadata": {},
     "output_type": "execute_result"
    }
   ],
   "source": [
    "x"
   ]
  },
  {
   "cell_type": "code",
   "execution_count": 4,
   "id": "e26b25dc",
   "metadata": {
    "ExecuteTime": {
     "end_time": "2023-12-25T15:03:50.878990800Z",
     "start_time": "2023-12-25T15:03:50.819764Z"
    }
   },
   "outputs": [
    {
     "ename": "SyntaxError",
     "evalue": "invalid syntax (1060429478.py, line 1)",
     "output_type": "error",
     "traceback": [
      "\u001B[1;36m  Cell \u001B[1;32mIn[4], line 1\u001B[1;36m\u001B[0m\n\u001B[1;33m    1x\u001B[0m\n\u001B[1;37m     ^\u001B[0m\n\u001B[1;31mSyntaxError\u001B[0m\u001B[1;31m:\u001B[0m invalid syntax\n"
     ]
    }
   ],
   "source": [
    "1x"
   ]
  },
  {
   "cell_type": "code",
   "execution_count": 5,
   "id": "d045d01a",
   "metadata": {
    "ExecuteTime": {
     "end_time": "2023-12-25T15:04:18.957067Z",
     "start_time": "2023-12-25T15:04:18.925377200Z"
    }
   },
   "outputs": [],
   "source": [
    "name = 'Ryan'"
   ]
  },
  {
   "cell_type": "code",
   "execution_count": 6,
   "id": "eac35943",
   "metadata": {
    "ExecuteTime": {
     "end_time": "2023-12-25T15:04:20.027483400Z",
     "start_time": "2023-12-25T15:04:20.020402200Z"
    }
   },
   "outputs": [
    {
     "data": {
      "text/plain": "str"
     },
     "execution_count": 6,
     "metadata": {},
     "output_type": "execute_result"
    }
   ],
   "source": [
    "type(name)"
   ]
  },
  {
   "cell_type": "code",
   "execution_count": 7,
   "id": "1a93aa83",
   "metadata": {
    "ExecuteTime": {
     "end_time": "2023-12-25T15:04:21.360323300Z",
     "start_time": "2023-12-25T15:04:21.329052100Z"
    }
   },
   "outputs": [
    {
     "data": {
      "text/plain": "int"
     },
     "execution_count": 7,
     "metadata": {},
     "output_type": "execute_result"
    }
   ],
   "source": [
    "type(x)"
   ]
  },
  {
   "cell_type": "markdown",
   "id": "8b7a8afe",
   "metadata": {},
   "source": [
    "## Numbers"
   ]
  },
  {
   "cell_type": "code",
   "execution_count": null,
   "id": "66b59611",
   "metadata": {
    "ExecuteTime": {
     "start_time": "2023-12-25T15:03:50.846948700Z"
    }
   },
   "outputs": [],
   "source": [
    "type(1.5)"
   ]
  },
  {
   "cell_type": "code",
   "execution_count": null,
   "id": "260be4ae",
   "metadata": {
    "ExecuteTime": {
     "start_time": "2023-12-25T15:03:50.846948700Z"
    }
   },
   "outputs": [],
   "source": [
    "1.23456789"
   ]
  },
  {
   "cell_type": "code",
   "execution_count": null,
   "id": "b0c62fcc",
   "metadata": {
    "ExecuteTime": {
     "start_time": "2023-12-25T15:03:50.846948700Z"
    }
   },
   "outputs": [],
   "source": [
    "12345678.9"
   ]
  },
  {
   "cell_type": "code",
   "execution_count": 8,
   "id": "b57e9f24",
   "metadata": {
    "ExecuteTime": {
     "end_time": "2023-12-26T09:46:53.742522800Z",
     "start_time": "2023-12-26T09:46:53.716686100Z"
    }
   },
   "outputs": [
    {
     "data": {
      "text/plain": "complex"
     },
     "execution_count": 8,
     "metadata": {},
     "output_type": "execute_result"
    }
   ],
   "source": [
    "type(2j)"
   ]
  },
  {
   "cell_type": "code",
   "execution_count": 9,
   "id": "70f204ce",
   "metadata": {
    "ExecuteTime": {
     "end_time": "2023-12-26T09:46:56.625277100Z",
     "start_time": "2023-12-26T09:46:56.604212200Z"
    }
   },
   "outputs": [
    {
     "data": {
      "text/plain": "(-1+0j)"
     },
     "execution_count": 9,
     "metadata": {},
     "output_type": "execute_result"
    }
   ],
   "source": [
    "1j * 1j"
   ]
  },
  {
   "cell_type": "markdown",
   "id": "d6b29b9e",
   "metadata": {},
   "source": [
    "## Strings"
   ]
  },
  {
   "cell_type": "code",
   "execution_count": 10,
   "id": "4b72f826",
   "metadata": {
    "ExecuteTime": {
     "end_time": "2023-12-26T09:47:14.647360400Z",
     "start_time": "2023-12-26T09:47:14.598311900Z"
    }
   },
   "outputs": [
    {
     "data": {
      "text/plain": "'String 1 String 2'"
     },
     "execution_count": 10,
     "metadata": {},
     "output_type": "execute_result"
    }
   ],
   "source": [
    "'String 1 ' + 'String 2'"
   ]
  },
  {
   "cell_type": "code",
   "execution_count": 11,
   "id": "14c2ced2",
   "metadata": {
    "ExecuteTime": {
     "end_time": "2023-12-26T09:47:23.967345900Z",
     "start_time": "2023-12-26T09:47:23.946642900Z"
    }
   },
   "outputs": [
    {
     "data": {
      "text/plain": "'11'"
     },
     "execution_count": 11,
     "metadata": {},
     "output_type": "execute_result"
    }
   ],
   "source": [
    "'1' + '1'"
   ]
  },
  {
   "cell_type": "code",
   "execution_count": 12,
   "id": "1b327896",
   "metadata": {
    "ExecuteTime": {
     "end_time": "2023-12-26T09:47:34.831212300Z",
     "start_time": "2023-12-26T09:47:28.562461800Z"
    }
   },
   "outputs": [
    {
     "ename": "TypeError",
     "evalue": "can only concatenate str (not \"int\") to str",
     "output_type": "error",
     "traceback": [
      "\u001B[1;31m---------------------------------------------------------------------------\u001B[0m",
      "\u001B[1;31mTypeError\u001B[0m                                 Traceback (most recent call last)",
      "Cell \u001B[1;32mIn[12], line 1\u001B[0m\n\u001B[1;32m----> 1\u001B[0m \u001B[38;5;124;43m'\u001B[39;49m\u001B[38;5;124;43m1\u001B[39;49m\u001B[38;5;124;43m'\u001B[39;49m\u001B[43m \u001B[49m\u001B[38;5;241;43m+\u001B[39;49m\u001B[43m \u001B[49m\u001B[38;5;241;43m1\u001B[39;49m\n",
      "\u001B[1;31mTypeError\u001B[0m: can only concatenate str (not \"int\") to str"
     ]
    }
   ],
   "source": [
    "'1' + 1"
   ]
  },
  {
   "cell_type": "markdown",
   "id": "9afbc149",
   "metadata": {},
   "source": [
    "## Booleans"
   ]
  },
  {
   "cell_type": "code",
   "execution_count": 13,
   "id": "a3d9b9bc",
   "metadata": {
    "ExecuteTime": {
     "end_time": "2023-12-26T09:47:51.277513100Z",
     "start_time": "2023-12-26T09:47:51.218783900Z"
    }
   },
   "outputs": [
    {
     "data": {
      "text/plain": "True"
     },
     "execution_count": 13,
     "metadata": {},
     "output_type": "execute_result"
    }
   ],
   "source": [
    "True"
   ]
  },
  {
   "cell_type": "code",
   "execution_count": 14,
   "id": "a8379a41",
   "metadata": {
    "ExecuteTime": {
     "end_time": "2023-12-26T09:47:52.727651400Z",
     "start_time": "2023-12-26T09:47:52.713237800Z"
    }
   },
   "outputs": [
    {
     "data": {
      "text/plain": "False"
     },
     "execution_count": 14,
     "metadata": {},
     "output_type": "execute_result"
    }
   ],
   "source": [
    "False"
   ]
  },
  {
   "cell_type": "code",
   "execution_count": 16,
   "id": "e3c34286",
   "metadata": {
    "ExecuteTime": {
     "end_time": "2023-12-26T09:48:00.964422200Z",
     "start_time": "2023-12-26T09:48:00.942050300Z"
    }
   },
   "outputs": [],
   "source": [
    "true = True"
   ]
  },
  {
   "cell_type": "code",
   "execution_count": 17,
   "id": "85d586ae",
   "metadata": {
    "ExecuteTime": {
     "end_time": "2023-12-26T09:48:16.536498600Z",
     "start_time": "2023-12-26T09:48:16.484142100Z"
    }
   },
   "outputs": [
    {
     "data": {
      "text/plain": "True"
     },
     "execution_count": 17,
     "metadata": {},
     "output_type": "execute_result"
    }
   ],
   "source": [
    "1 == 1"
   ]
  },
  {
   "cell_type": "code",
   "execution_count": 18,
   "id": "4992ca39",
   "metadata": {
    "ExecuteTime": {
     "end_time": "2023-12-26T09:48:18.114300300Z",
     "start_time": "2023-12-26T09:48:18.108367500Z"
    }
   },
   "outputs": [
    {
     "data": {
      "text/plain": "False"
     },
     "execution_count": 18,
     "metadata": {},
     "output_type": "execute_result"
    }
   ],
   "source": [
    "1 == 2"
   ]
  },
  {
   "cell_type": "code",
   "execution_count": 20,
   "id": "bde64579",
   "metadata": {
    "ExecuteTime": {
     "end_time": "2023-12-26T09:48:33.668499Z",
     "start_time": "2023-12-26T09:48:33.631288600Z"
    }
   },
   "outputs": [
    {
     "ename": "SyntaxError",
     "evalue": "cannot assign to literal (1326554407.py, line 1)",
     "output_type": "error",
     "traceback": [
      "\u001B[1;36m  Cell \u001B[1;32mIn[20], line 1\u001B[1;36m\u001B[0m\n\u001B[1;33m    1 = 1\u001B[0m\n\u001B[1;37m    ^\u001B[0m\n\u001B[1;31mSyntaxError\u001B[0m\u001B[1;31m:\u001B[0m cannot assign to literal\n"
     ]
    }
   ],
   "source": [
    "1 = 1"
   ]
  },
  {
   "cell_type": "code",
   "execution_count": null,
   "outputs": [],
   "source": [],
   "metadata": {
    "collapsed": false
   },
   "id": "4174828ddd1dc345"
  }
 ],
 "metadata": {
  "kernelspec": {
   "display_name": "Python 3 (ipykernel)",
   "language": "python",
   "name": "python3"
  },
  "language_info": {
   "codemirror_mode": {
    "name": "ipython",
    "version": 3
   },
   "file_extension": ".py",
   "mimetype": "text/x-python",
   "name": "python",
   "nbconvert_exporter": "python",
   "pygments_lexer": "ipython3",
   "version": "3.9.13"
  }
 },
 "nbformat": 4,
 "nbformat_minor": 5
}
